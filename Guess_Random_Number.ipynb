{
  "nbformat": 4,
  "nbformat_minor": 0,
  "metadata": {
    "colab": {
      "provenance": [],
      "authorship_tag": "ABX9TyPZj1hSBa3pya/IP+pqjb5k",
      "include_colab_link": true
    },
    "kernelspec": {
      "name": "python3",
      "display_name": "Python 3"
    },
    "language_info": {
      "name": "python"
    }
  },
  "cells": [
    {
      "cell_type": "markdown",
      "metadata": {
        "id": "view-in-github",
        "colab_type": "text"
      },
      "source": [
        "<a href=\"https://colab.research.google.com/github/keerthana2819/Practice/blob/main/Guess_Random_Number.ipynb\" target=\"_parent\"><img src=\"https://colab.research.google.com/assets/colab-badge.svg\" alt=\"Open In Colab\"/></a>"
      ]
    },
    {
      "cell_type": "code",
      "execution_count": null,
      "metadata": {
        "colab": {
          "base_uri": "https://localhost:8080/"
        },
        "id": "mvcHmwIt6q20",
        "outputId": "9153fbd4-006b-49b4-e291-d2078de5fa43"
      },
      "outputs": [
        {
          "output_type": "stream",
          "name": "stdout",
          "text": [
            "Enter the number between 0 to 20: 25\n",
            "Too large\n",
            "Enter the number between 0 to 20: 8\n",
            "Too small\n",
            "Enter the number between 0 to 20: 15\n",
            "Too small\n",
            "Enter the number between 0 to 20: 12\n",
            "Too small\n"
          ]
        }
      ],
      "source": [
        "import random\n",
        "\n",
        "def guess():\n",
        "    ''' This function guesses the randomnly generated number '''\n",
        "    randomNumber = random.randint(0, 21)\n",
        "    count = 0\n",
        "\n",
        "    while True:\n",
        "        count += 1\n",
        "        number = int(input('Enter the number between 0 to 20: '))\n",
        "        if number < randomNumber:\n",
        "            print('Too small')\n",
        "        elif number > randomNumber:\n",
        "            print('Too large')\n",
        "        else:\n",
        "            print('You have got it in', count, 'tries')\n",
        "            break\n",
        "\n",
        "if __name__ == '__main__':\n",
        "    guess()"
      ]
    }
  ]
}