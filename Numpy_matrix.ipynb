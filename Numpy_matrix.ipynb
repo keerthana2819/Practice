{
  "nbformat": 4,
  "nbformat_minor": 0,
  "metadata": {
    "colab": {
      "provenance": [],
      "authorship_tag": "ABX9TyMgVuQidiqZ6kZdyEeXUbfg",
      "include_colab_link": true
    },
    "kernelspec": {
      "name": "python3",
      "display_name": "Python 3"
    },
    "language_info": {
      "name": "python"
    }
  },
  "cells": [
    {
      "cell_type": "markdown",
      "metadata": {
        "id": "view-in-github",
        "colab_type": "text"
      },
      "source": [
        "<a href=\"https://colab.research.google.com/github/keerthana2819/Practice/blob/main/Numpy_matrix.ipynb\" target=\"_parent\"><img src=\"https://colab.research.google.com/assets/colab-badge.svg\" alt=\"Open In Colab\"/></a>"
      ]
    },
    {
      "cell_type": "code",
      "execution_count": 4,
      "metadata": {
        "colab": {
          "base_uri": "https://localhost:8080/"
        },
        "id": "3J-gNWCDXtB9",
        "outputId": "a3c3ea15-f264-471b-9667-ddd12d0a818f"
      },
      "outputs": [
        {
          "output_type": "stream",
          "name": "stdout",
          "text": [
            "Matrix 1:\n",
            " [[9 1 4]\n",
            " [8 5 2]\n",
            " [5 6 4]]\n",
            "\n",
            "Matrix 2:\n",
            " [[5 3 8]\n",
            " [5 3 6]\n",
            " [9 2 3]]\n",
            "\n",
            "Matrix Addition:\n",
            " [[14  4 12]\n",
            " [13  8  8]\n",
            " [14  8  7]]\n",
            "\n",
            "Matrix Multiplication:\n",
            " [[ 86  38  90]\n",
            " [ 83  43 100]\n",
            " [ 91  41  88]]\n",
            "\n",
            "Transpose of Matrix 1:\n",
            " [[9 8 5]\n",
            " [1 5 6]\n",
            " [4 2 4]]\n"
          ]
        }
      ],
      "source": [
        "import numpy as np\n",
        "\n",
        "# Create two random matrices\n",
        "matrix1 = np.random.randint(1, 10, (3, 3))\n",
        "matrix2 = np.random.randint(1, 10, (3, 3))\n",
        "\n",
        "# Perform matrix operations\n",
        "print(\"Matrix 1:\\n\", matrix1)\n",
        "print(\"\\nMatrix 2:\\n\", matrix2)\n",
        "print(\"\\nMatrix Addition:\\n\", matrix1 + matrix2)\n",
        "print(\"\\nMatrix Multiplication:\\n\", np.dot(matrix1, matrix2))\n",
        "print(\"\\nTranspose of Matrix 1:\\n\", matrix1.T)"
      ]
    }
  ]
}