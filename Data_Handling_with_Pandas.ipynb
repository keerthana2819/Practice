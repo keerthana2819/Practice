{
  "nbformat": 4,
  "nbformat_minor": 0,
  "metadata": {
    "colab": {
      "provenance": [],
      "authorship_tag": "ABX9TyMREUi+tWISdSz8f0A0x4r+",
      "include_colab_link": true
    },
    "kernelspec": {
      "name": "python3",
      "display_name": "Python 3"
    },
    "language_info": {
      "name": "python"
    }
  },
  "cells": [
    {
      "cell_type": "markdown",
      "metadata": {
        "id": "view-in-github",
        "colab_type": "text"
      },
      "source": [
        "<a href=\"https://colab.research.google.com/github/keerthana2819/Practice/blob/main/Data_Handling_with_Pandas.ipynb\" target=\"_parent\"><img src=\"https://colab.research.google.com/assets/colab-badge.svg\" alt=\"Open In Colab\"/></a>"
      ]
    },
    {
      "cell_type": "code",
      "execution_count": 2,
      "metadata": {
        "colab": {
          "base_uri": "https://localhost:8080/"
        },
        "id": "3J-gNWCDXtB9",
        "outputId": "4be793bf-5678-4859-847f-a48573f97ad9"
      },
      "outputs": [
        {
          "output_type": "stream",
          "name": "stdout",
          "text": [
            "DataFrame:\n",
            "       Name  Age         City\n",
            "0    Alice   24     New York\n",
            "1      Bob   27  Los Angeles\n",
            "2  Charlie   22      Chicago\n",
            "3    David   32      Houston\n",
            "\n",
            "Filtered Data (Age > 25):\n",
            "     Name  Age         City\n",
            "1    Bob   27  Los Angeles\n",
            "3  David   32      Houston\n",
            "\n",
            "DataFrame with Salary column:\n",
            "       Name  Age         City  Salary\n",
            "0    Alice   24     New York   50000\n",
            "1      Bob   27  Los Angeles   60000\n",
            "2  Charlie   22      Chicago   45000\n",
            "3    David   32      Houston   70000\n"
          ]
        }
      ],
      "source": [
        "import pandas as pd\n",
        "\n",
        "# Create a sample DataFrame\n",
        "data = {\n",
        "    \"Name\": [\"Alice\", \"Bob\", \"Charlie\", \"David\"],\n",
        "    \"Age\": [24, 27, 22, 32],\n",
        "    \"City\": [\"New York\", \"Los Angeles\", \"Chicago\", \"Houston\"]\n",
        "}\n",
        "df = pd.DataFrame(data)\n",
        "\n",
        "# Display the DataFrame\n",
        "print(\"DataFrame:\\n\", df)\n",
        "\n",
        "# Filter data where Age is greater than 25\n",
        "print(\"\\nFiltered Data (Age > 25):\\n\", df[df[\"Age\"] > 25])\n",
        "\n",
        "# Add a new column\n",
        "df[\"Salary\"] = [50000, 60000, 45000, 70000]\n",
        "print(\"\\nDataFrame with Salary column:\\n\", df)\n"
      ]
    }
  ]
}